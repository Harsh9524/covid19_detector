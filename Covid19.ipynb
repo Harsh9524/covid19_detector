{
  "nbformat": 4,
  "nbformat_minor": 0,
  "metadata": {
    "colab": {
      "name": "Covid19.ipynb",
      "provenance": [],
      "collapsed_sections": []
    },
    "kernelspec": {
      "name": "python3",
      "display_name": "Python 3"
    },
    "accelerator": "GPU"
  },
  "cells": [
    {
      "cell_type": "markdown",
      "metadata": {
        "id": "9hUbVbnK4XPO",
        "colab_type": "text"
      },
      "source": [
        "Check GPU RAM for the current Colab Runtime"
      ]
    },
    {
      "cell_type": "code",
      "metadata": {
        "id": "0-NUlozce3UN",
        "colab_type": "code",
        "colab": {
          "base_uri": "https://localhost:8080/",
          "height": 163
        },
        "outputId": "095f2bb9-05c8-41b6-beaa-7c48c32a4740"
      },
      "source": [
        "# memory footprint support libraries/code\n",
        "!ln -sf /opt/bin/nvidia-smi /usr/bin/nvidia-smi\n",
        "!pip install gputil\n",
        "import psutil\n",
        "import humanize\n",
        "import os\n",
        "import GPUtil as GPU\n",
        "GPUs = GPU.getGPUs()\n",
        "# XXX: only one GPU on Colab and isn’t guaranteed\n",
        "gpu = GPUs[0]\n",
        "def printm():\n",
        "    process = psutil.Process(os.getpid())\n",
        "    print(\"Gen RAM Free: \" + humanize.naturalsize( psutil.virtual_memory().available ), \" | Proc size: \" + humanize.naturalsize( process.memory_info().rss))\n",
        "    print(\"GPU RAM Free: {0:.0f}MB | Used: {1:.0f}MB | Util {2:3.0f}% | Total {3:.0f}MB\".format(gpu.memoryFree, gpu.memoryUsed, gpu.memoryUtil*100, gpu.memoryTotal))"
      ],
      "execution_count": 1,
      "outputs": [
        {
          "output_type": "stream",
          "text": [
            "Collecting gputil\n",
            "  Downloading https://files.pythonhosted.org/packages/ed/0e/5c61eedde9f6c87713e89d794f01e378cfd9565847d4576fa627d758c554/GPUtil-1.4.0.tar.gz\n",
            "Building wheels for collected packages: gputil\n",
            "  Building wheel for gputil (setup.py) ... \u001b[?25l\u001b[?25hdone\n",
            "  Created wheel for gputil: filename=GPUtil-1.4.0-cp36-none-any.whl size=7413 sha256=bdd51b955cf7345458048b8a375710235289e1e008973169765b282f7540a191\n",
            "  Stored in directory: /root/.cache/pip/wheels/3d/77/07/80562de4bb0786e5ea186911a2c831fdd0018bda69beab71fd\n",
            "Successfully built gputil\n",
            "Installing collected packages: gputil\n",
            "Successfully installed gputil-1.4.0\n"
          ],
          "name": "stdout"
        }
      ]
    },
    {
      "cell_type": "code",
      "metadata": {
        "id": "Xlad0nuMXInH",
        "colab_type": "code",
        "colab": {}
      },
      "source": [
        "path = '/content/drive/My Drive/Covid-19'"
      ],
      "execution_count": 0,
      "outputs": []
    },
    {
      "cell_type": "markdown",
      "metadata": {
        "id": "BW3_hBfUe5KS",
        "colab_type": "text"
      },
      "source": [
        "**Import the Relvant Libraries**"
      ]
    },
    {
      "cell_type": "code",
      "metadata": {
        "id": "WK1f-uY1YRmj",
        "colab_type": "code",
        "colab": {
          "base_uri": "https://localhost:8080/",
          "height": 33
        },
        "outputId": "2b4a2ea7-9f0c-4f87-9bbe-58cd9fabbcb5"
      },
      "source": [
        "try:\n",
        "  # %tensorflow_version only exists in Colab.\n",
        "  %tensorflow_version 2.x\n",
        "except Exception:\n",
        "  pass\n",
        "import tensorflow as tf"
      ],
      "execution_count": 3,
      "outputs": [
        {
          "output_type": "stream",
          "text": [
            "TensorFlow 2.x selected.\n"
          ],
          "name": "stdout"
        }
      ]
    },
    {
      "cell_type": "code",
      "metadata": {
        "id": "qGnMRT8qfBa3",
        "colab_type": "code",
        "colab": {}
      },
      "source": [
        "from tensorflow.keras.preprocessing.image import ImageDataGenerator\n",
        "from tensorflow.keras.applications import VGG16, VGG19\n",
        "from tensorflow.keras.layers import AveragePooling2D, SeparableConv2D, Dropout, Flatten, Dense, Input, MaxPooling2D, Activation, BatchNormalization\n",
        "from tensorflow.keras.models import Model\n",
        "from tensorflow.keras.optimizers import Adam, Adagrad\n",
        "from tensorflow.keras.utils import to_categorical\n",
        "from tensorflow.keras.models import Sequential\n",
        "from tensorflow.keras import backend as K\n",
        "from sklearn.preprocessing import LabelBinarizer\n",
        "from sklearn.model_selection import train_test_split\n",
        "from sklearn.metrics import classification_report\n",
        "from sklearn.metrics import confusion_matrix\n",
        "import matplotlib.pyplot as plt\n",
        "from imutils import paths\n",
        "import seaborn as sns\n",
        "import pandas as pd\n",
        "import numpy as np\n",
        "import cv2\n",
        "import os"
      ],
      "execution_count": 0,
      "outputs": []
    },
    {
      "cell_type": "code",
      "metadata": {
        "id": "xuP-ty3vxybb",
        "colab_type": "code",
        "colab": {}
      },
      "source": [
        "# Helper Functions\n",
        "def show_image(img):\n",
        "    '''\n",
        "    Quick display of image in grayscale \n",
        "    '''\n",
        "    plt.imshow(img, cmap = 'gray')\n",
        "    plt.title('Example X-Ray scan')\n",
        "    plt.grid(False)\n",
        "    plt.axis('off')\n",
        "    plt.show()\n",
        "\n",
        "def plot_cm(labels, predictions):\n",
        "    '''\n",
        "    Plot the confusion matrix\n",
        "    '''\n",
        "    print(classification_report(labels, predictions,\n",
        "\ttarget_names=lb.classes_))\n",
        "\n",
        "    cm = confusion_matrix(labels, predictions)\n",
        "    total = sum(sum(cm))\n",
        "    acc = (cm[0, 0] + cm[1, 1]) / total\n",
        "    sensitivity = cm[0, 0] / (cm[0, 0] + cm[0, 1])\n",
        "    specificity = cm[1, 1] / (cm[1, 0] + cm[1, 1])\n",
        "    \n",
        "    print(\"accuracy: {:.4f}\".format(acc))\n",
        "    print(\"sensitivity: {:.4f}\".format(sensitivity))\n",
        "    print(\"specificity: {:.4f}\".format(specificity))\n",
        "    print()\n",
        "    print('Correct Healthy Patient Detection (True Negatives): ', cm[0][0])\n",
        "    print('Incorrect Covid-19 Detection (False Positives): ', cm[0][1])\n",
        "    print('Incorrect Healthy Patient Detection (False Negatives): ', cm[1][0])\n",
        "    print('Correct Covid-19 Detection (True Positives): ', cm[1][1])\n",
        "    print('Total Patietns with Covid-19: ', np.sum(cm[1]))\n",
        "\n",
        "    print()\n",
        "    plt.figure(figsize=(7,7))\n",
        "    sns.heatmap(cm, annot=True, fmt=\"d\")\n",
        "    plt.title('Confusion matrix')\n",
        "    plt.ylabel('Actual label')\n",
        "    plt.xlabel('Predicted label')"
      ],
      "execution_count": 0,
      "outputs": []
    },
    {
      "cell_type": "code",
      "metadata": {
        "id": "l-dE0m2pw65y",
        "colab_type": "code",
        "colab": {
          "base_uri": "https://localhost:8080/",
          "height": 373
        },
        "outputId": "34c474c4-b7d7-4716-a298-fdc8370dadd5"
      },
      "source": [
        "df = pd.read_csv(f'{path}/metadata.csv')\n",
        "df.head() # Show samples from Covid-19 dataset "
      ],
      "execution_count": 7,
      "outputs": [
        {
          "output_type": "execute_result",
          "data": {
            "text/html": [
              "<div>\n",
              "<style scoped>\n",
              "    .dataframe tbody tr th:only-of-type {\n",
              "        vertical-align: middle;\n",
              "    }\n",
              "\n",
              "    .dataframe tbody tr th {\n",
              "        vertical-align: top;\n",
              "    }\n",
              "\n",
              "    .dataframe thead th {\n",
              "        text-align: right;\n",
              "    }\n",
              "</style>\n",
              "<table border=\"1\" class=\"dataframe\">\n",
              "  <thead>\n",
              "    <tr style=\"text-align: right;\">\n",
              "      <th></th>\n",
              "      <th>Patientid</th>\n",
              "      <th>offset</th>\n",
              "      <th>sex</th>\n",
              "      <th>age</th>\n",
              "      <th>finding</th>\n",
              "      <th>survival</th>\n",
              "      <th>view</th>\n",
              "      <th>modality</th>\n",
              "      <th>date</th>\n",
              "      <th>location</th>\n",
              "      <th>filename</th>\n",
              "      <th>doi</th>\n",
              "      <th>url</th>\n",
              "      <th>license</th>\n",
              "      <th>clinical notes</th>\n",
              "      <th>other notes</th>\n",
              "      <th>Unnamed: 16</th>\n",
              "    </tr>\n",
              "  </thead>\n",
              "  <tbody>\n",
              "    <tr>\n",
              "      <th>0</th>\n",
              "      <td>2</td>\n",
              "      <td>0.0</td>\n",
              "      <td>M</td>\n",
              "      <td>65.0</td>\n",
              "      <td>COVID-19</td>\n",
              "      <td>Y</td>\n",
              "      <td>PA</td>\n",
              "      <td>X-ray</td>\n",
              "      <td>2020</td>\n",
              "      <td>NaN</td>\n",
              "      <td>auntminnie-a-2020_01_28_23_51_6665_2020_01_28_...</td>\n",
              "      <td>10.1056/nejmc2001272</td>\n",
              "      <td>https://www.nejm.org/doi/full/10.1056/NEJMc200...</td>\n",
              "      <td>NaN</td>\n",
              "      <td>NaN</td>\n",
              "      <td>NaN</td>\n",
              "      <td>NaN</td>\n",
              "    </tr>\n",
              "    <tr>\n",
              "      <th>1</th>\n",
              "      <td>2</td>\n",
              "      <td>3.0</td>\n",
              "      <td>M</td>\n",
              "      <td>65.0</td>\n",
              "      <td>COVID-19</td>\n",
              "      <td>Y</td>\n",
              "      <td>PA</td>\n",
              "      <td>X-ray</td>\n",
              "      <td>2020</td>\n",
              "      <td>NaN</td>\n",
              "      <td>auntminnie-b-2020_01_28_23_51_6665_2020_01_28_...</td>\n",
              "      <td>10.1056/nejmc2001272</td>\n",
              "      <td>https://www.nejm.org/doi/full/10.1056/NEJMc200...</td>\n",
              "      <td>NaN</td>\n",
              "      <td>NaN</td>\n",
              "      <td>NaN</td>\n",
              "      <td>NaN</td>\n",
              "    </tr>\n",
              "    <tr>\n",
              "      <th>2</th>\n",
              "      <td>2</td>\n",
              "      <td>5.0</td>\n",
              "      <td>M</td>\n",
              "      <td>65.0</td>\n",
              "      <td>COVID-19</td>\n",
              "      <td>Y</td>\n",
              "      <td>PA</td>\n",
              "      <td>X-ray</td>\n",
              "      <td>2020</td>\n",
              "      <td>NaN</td>\n",
              "      <td>auntminnie-c-2020_01_28_23_51_6665_2020_01_28_...</td>\n",
              "      <td>10.1056/nejmc2001272</td>\n",
              "      <td>https://www.nejm.org/doi/full/10.1056/NEJMc200...</td>\n",
              "      <td>NaN</td>\n",
              "      <td>NaN</td>\n",
              "      <td>NaN</td>\n",
              "      <td>NaN</td>\n",
              "    </tr>\n",
              "    <tr>\n",
              "      <th>3</th>\n",
              "      <td>2</td>\n",
              "      <td>6.0</td>\n",
              "      <td>M</td>\n",
              "      <td>65.0</td>\n",
              "      <td>COVID-19</td>\n",
              "      <td>Y</td>\n",
              "      <td>PA</td>\n",
              "      <td>X-ray</td>\n",
              "      <td>2020</td>\n",
              "      <td>NaN</td>\n",
              "      <td>auntminnie-d-2020_01_28_23_51_6665_2020_01_28_...</td>\n",
              "      <td>10.1056/nejmc2001272</td>\n",
              "      <td>https://www.nejm.org/doi/full/10.1056/NEJMc200...</td>\n",
              "      <td>NaN</td>\n",
              "      <td>NaN</td>\n",
              "      <td>NaN</td>\n",
              "      <td>NaN</td>\n",
              "    </tr>\n",
              "    <tr>\n",
              "      <th>4</th>\n",
              "      <td>4</td>\n",
              "      <td>0.0</td>\n",
              "      <td>F</td>\n",
              "      <td>52.0</td>\n",
              "      <td>COVID-19</td>\n",
              "      <td>NaN</td>\n",
              "      <td>PA</td>\n",
              "      <td>X-ray</td>\n",
              "      <td>2020</td>\n",
              "      <td>Changhua Christian Hospital, Changhua City, Ta...</td>\n",
              "      <td>nejmc2001573_f1a.jpeg</td>\n",
              "      <td>10.1056/NEJMc2001573</td>\n",
              "      <td>https://www.nejm.org/doi/full/10.1056/NEJMc200...</td>\n",
              "      <td>NaN</td>\n",
              "      <td>diffuse infiltrates in the bilateral lower lungs</td>\n",
              "      <td>NaN</td>\n",
              "      <td>NaN</td>\n",
              "    </tr>\n",
              "  </tbody>\n",
              "</table>\n",
              "</div>"
            ],
            "text/plain": [
              "   Patientid  offset  ... other notes  Unnamed: 16\n",
              "0          2     0.0  ...         NaN          NaN\n",
              "1          2     3.0  ...         NaN          NaN\n",
              "2          2     5.0  ...         NaN          NaN\n",
              "3          2     6.0  ...         NaN          NaN\n",
              "4          4     0.0  ...         NaN          NaN\n",
              "\n",
              "[5 rows x 17 columns]"
            ]
          },
          "metadata": {
            "tags": []
          },
          "execution_count": 7
        }
      ]
    },
    {
      "cell_type": "code",
      "metadata": {
        "id": "5efuAlyGlfn9",
        "colab_type": "code",
        "colab": {
          "base_uri": "https://localhost:8080/",
          "height": 391
        },
        "outputId": "a47ecbf6-f626-40ea-e57b-c594c9b385a7"
      },
      "source": [
        "df[['finding','view','modality','location']]"
      ],
      "execution_count": 8,
      "outputs": [
        {
          "output_type": "execute_result",
          "data": {
            "text/html": [
              "<div>\n",
              "<style scoped>\n",
              "    .dataframe tbody tr th:only-of-type {\n",
              "        vertical-align: middle;\n",
              "    }\n",
              "\n",
              "    .dataframe tbody tr th {\n",
              "        vertical-align: top;\n",
              "    }\n",
              "\n",
              "    .dataframe thead th {\n",
              "        text-align: right;\n",
              "    }\n",
              "</style>\n",
              "<table border=\"1\" class=\"dataframe\">\n",
              "  <thead>\n",
              "    <tr style=\"text-align: right;\">\n",
              "      <th></th>\n",
              "      <th>finding</th>\n",
              "      <th>view</th>\n",
              "      <th>modality</th>\n",
              "      <th>location</th>\n",
              "    </tr>\n",
              "  </thead>\n",
              "  <tbody>\n",
              "    <tr>\n",
              "      <th>0</th>\n",
              "      <td>COVID-19</td>\n",
              "      <td>PA</td>\n",
              "      <td>X-ray</td>\n",
              "      <td>NaN</td>\n",
              "    </tr>\n",
              "    <tr>\n",
              "      <th>1</th>\n",
              "      <td>COVID-19</td>\n",
              "      <td>PA</td>\n",
              "      <td>X-ray</td>\n",
              "      <td>NaN</td>\n",
              "    </tr>\n",
              "    <tr>\n",
              "      <th>2</th>\n",
              "      <td>COVID-19</td>\n",
              "      <td>PA</td>\n",
              "      <td>X-ray</td>\n",
              "      <td>NaN</td>\n",
              "    </tr>\n",
              "    <tr>\n",
              "      <th>3</th>\n",
              "      <td>COVID-19</td>\n",
              "      <td>PA</td>\n",
              "      <td>X-ray</td>\n",
              "      <td>NaN</td>\n",
              "    </tr>\n",
              "    <tr>\n",
              "      <th>4</th>\n",
              "      <td>COVID-19</td>\n",
              "      <td>PA</td>\n",
              "      <td>X-ray</td>\n",
              "      <td>Changhua Christian Hospital, Changhua City, Ta...</td>\n",
              "    </tr>\n",
              "    <tr>\n",
              "      <th>...</th>\n",
              "      <td>...</td>\n",
              "      <td>...</td>\n",
              "      <td>...</td>\n",
              "      <td>...</td>\n",
              "    </tr>\n",
              "    <tr>\n",
              "      <th>141</th>\n",
              "      <td>COVID-19</td>\n",
              "      <td>AP Supine</td>\n",
              "      <td>X-ray</td>\n",
              "      <td>Italy</td>\n",
              "    </tr>\n",
              "    <tr>\n",
              "      <th>142</th>\n",
              "      <td>COVID-19</td>\n",
              "      <td>PA</td>\n",
              "      <td>X-ray</td>\n",
              "      <td>The Royal Melbourne Hospital, Melbourne, Austr...</td>\n",
              "    </tr>\n",
              "    <tr>\n",
              "      <th>143</th>\n",
              "      <td>COVID-19</td>\n",
              "      <td>PA</td>\n",
              "      <td>X-ray</td>\n",
              "      <td>The Royal Melbourne Hospital, Melbourne, Austr...</td>\n",
              "    </tr>\n",
              "    <tr>\n",
              "      <th>144</th>\n",
              "      <td>COVID-19</td>\n",
              "      <td>AP</td>\n",
              "      <td>X-ray</td>\n",
              "      <td>NaN</td>\n",
              "    </tr>\n",
              "    <tr>\n",
              "      <th>145</th>\n",
              "      <td>COVID-19</td>\n",
              "      <td>PA</td>\n",
              "      <td>X-ray</td>\n",
              "      <td>Laniado Hospital, Netanya, Israel</td>\n",
              "    </tr>\n",
              "  </tbody>\n",
              "</table>\n",
              "<p>146 rows × 4 columns</p>\n",
              "</div>"
            ],
            "text/plain": [
              "      finding  ...                                           location\n",
              "0    COVID-19  ...                                                NaN\n",
              "1    COVID-19  ...                                                NaN\n",
              "2    COVID-19  ...                                                NaN\n",
              "3    COVID-19  ...                                                NaN\n",
              "4    COVID-19  ...  Changhua Christian Hospital, Changhua City, Ta...\n",
              "..        ...  ...                                                ...\n",
              "141  COVID-19  ...                                              Italy\n",
              "142  COVID-19  ...  The Royal Melbourne Hospital, Melbourne, Austr...\n",
              "143  COVID-19  ...  The Royal Melbourne Hospital, Melbourne, Austr...\n",
              "144  COVID-19  ...                                                NaN\n",
              "145  COVID-19  ...                  Laniado Hospital, Netanya, Israel\n",
              "\n",
              "[146 rows x 4 columns]"
            ]
          },
          "metadata": {
            "tags": []
          },
          "execution_count": 8
        }
      ]
    },
    {
      "cell_type": "code",
      "metadata": {
        "id": "Bm-OyVDJfsh9",
        "colab_type": "code",
        "colab": {
          "base_uri": "https://localhost:8080/",
          "height": 1000
        },
        "outputId": "b748e615-9288-4380-d405-6fc6f0656814"
      },
      "source": [
        "# Initialize the variables for training\n",
        "dataset_path = f'{path}/dataset'\n",
        "init_lr = 1e-3\n",
        "epochs = 100\n",
        "batch_size = 5\n",
        "\n",
        "# Read all files from path\n",
        "print(\"[INFO] loading images...\")\n",
        "imagePaths = list(paths.list_images(f'{path}/dataset'))\n",
        "data = []\n",
        "labels = []\n",
        "\n",
        "# loop over the image paths\n",
        "for imagePath in imagePaths:\n",
        "    print(imagePath)\n",
        "    # extract the class label from the filename\n",
        "    label = imagePath.split(os.path.sep)[-2]\n",
        "    print(label)\n",
        "    # load the image, swap color channels, and resize it to be a fixed\n",
        "    # 224x224 pixels while ignoring aspect ratio\n",
        "    image = cv2.imread(imagePath)\n",
        "    image = cv2.cvtColor(image, cv2.COLOR_BGR2RGB)\n",
        "    image = cv2.resize(image, (256, 256))\n",
        "\n",
        "    # update the data and labels lists, respectively\n",
        "    data.append(image)\n",
        "    labels.append(label)\n",
        "\n",
        "# Normalize images to range [0,1]\n",
        "data = np.array(data) / 255.0\n",
        "labels = np.array(labels)\n",
        "\n",
        "# Plot example patient scan\n",
        "print('Number of training images: ', len(data))\n",
        "print()\n",
        "show_image(data[0])\n",
        "\n",
        "# perform one-hot encoding on the labels\n",
        "print('Example scan label:\\t ', labels[0])\n",
        "lb = LabelBinarizer()\n",
        "labels = lb.fit_transform(labels)\n",
        "labels = to_categorical(labels)\n",
        "print('One-hot encoded label: ', labels[0])\n",
        "\n",
        "# split training and test data\n",
        "(trainX, testX, trainY, testY) = train_test_split(data, labels,\n",
        "\ttest_size=0.20, stratify=labels, random_state=13, shuffle=True)\n",
        "\n",
        "(trainX, validX, trainY, validY) = train_test_split(data, labels,\n",
        "\ttest_size=0.20, stratify=labels, random_state=13, shuffle=True)\n",
        "\n",
        "# # initialize the training data augmentation object\n",
        "trainAug = ImageDataGenerator(\n",
        "\t# rescale=1 / 255.0,\n",
        "\trotation_range=10,\n",
        "\t# zoom_range=0.05,\n",
        "\twidth_shift_range=0.1,\n",
        "\theight_shift_range=0.1,\n",
        "\tshear_range=0.05,\n",
        "\t# horizontal_flip=True,\n",
        "\t# vertical_flip=True,\n",
        "\tfill_mode=\"nearest\")\n",
        "\n",
        "# Load the VGG16 network\n",
        "baseModel = VGG16(weights=\"imagenet\", include_top=False,\n",
        "\tinput_tensor=Input(shape=(256, 256, 3)))\n",
        "\n",
        "# Make all pre-trained layers from VGG19 non-trainable \n",
        "for layer in baseModel.layers[:-3]:\n",
        "    layer.trainable = False\n",
        "\n",
        "# Add trainable fully-connected (FC) layers for predictions\n",
        "newModel = baseModel.output\n",
        "newModel = AveragePooling2D(pool_size=(4, 4))(newModel)\n",
        "newModel = Flatten(name=\"flatten\")(newModel)\n",
        "newModel = Dense(64, activation=\"relu\")(newModel)\n",
        "newModel = Dropout(0.5)(newModel)\n",
        "newModel = Dense(2, activation=\"softmax\")(newModel)\n",
        "\n",
        "# Stack the FC layers on top of VGG19 model\n",
        "model = Model(inputs=baseModel.input, outputs=newModel, name='Covid19_Detector')\n",
        "\n",
        "# compile our model\n",
        "print(\"\\n[INFO] compiling model...\")\n",
        "opt = Adam(lr=init_lr, decay=init_lr / epochs)\n",
        "model.compile(loss=\"binary_crossentropy\", optimizer=opt, metrics=[\"accuracy\"])"
      ],
      "execution_count": 40,
      "outputs": [
        {
          "output_type": "stream",
          "text": [
            "[INFO] loading images...\n",
            "/content/drive/My Drive/Covid-19/dataset/COVID/8FDE8DBA-CFBD-4B4C-B1A4-6F36A93B7E87.jpeg\n",
            "COVID\n",
            "/content/drive/My Drive/Covid-19/dataset/COVID/31BA3780-2323-493F-8AED-62081B9C383B.jpeg\n",
            "COVID\n",
            "/content/drive/My Drive/Covid-19/dataset/COVID/7C69C012-7479-493F-8722-ABC29C60A2DD.jpeg\n",
            "COVID\n",
            "/content/drive/My Drive/Covid-19/dataset/COVID/covid-19-pneumonia-7-PA.jpg\n",
            "COVID\n",
            "/content/drive/My Drive/Covid-19/dataset/COVID/23E99E2E-447C-46E5-8EB2-D35D12473C39.png\n",
            "COVID\n",
            "/content/drive/My Drive/Covid-19/dataset/COVID/auntminnie-a-2020_01_28_23_51_6665_2020_01_28_Vietnam_coronavirus.jpeg\n",
            "COVID\n",
            "/content/drive/My Drive/Covid-19/dataset/COVID/nejmc2001573_f1a.jpeg\n",
            "COVID\n",
            "/content/drive/My Drive/Covid-19/dataset/COVID/nejmoa2001191_f5-PA.jpeg\n",
            "COVID\n",
            "/content/drive/My Drive/Covid-19/dataset/COVID/lancet-case2a.jpg\n",
            "COVID\n",
            "/content/drive/My Drive/Covid-19/dataset/COVID/F63AB6CE-1968-4154-A70F-913AF154F53D.jpeg\n",
            "COVID\n",
            "/content/drive/My Drive/Covid-19/dataset/COVID/ryct.2020200034.fig5-day4.jpeg\n",
            "COVID\n",
            "/content/drive/My Drive/Covid-19/dataset/COVID/nCoV-radiol.2020200269.fig1-day7.jpeg\n",
            "COVID\n",
            "/content/drive/My Drive/Covid-19/dataset/COVID/1-s2.0-S0929664620300449-gr2_lrg-d.jpg\n",
            "COVID\n",
            "/content/drive/My Drive/Covid-19/dataset/COVID/1B734A89-A1BF-49A8-A1D3-66FAFA4FAC5D.jpeg\n",
            "COVID\n",
            "/content/drive/My Drive/Covid-19/dataset/COVID/covid-19-pneumonia-14-PA.png\n",
            "COVID\n",
            "/content/drive/My Drive/Covid-19/dataset/COVID/1-s2.0-S0929664620300449-gr2_lrg-a.jpg\n",
            "COVID\n",
            "/content/drive/My Drive/Covid-19/dataset/COVID/auntminnie-c-2020_01_28_23_51_6665_2020_01_28_Vietnam_coronavirus.jpeg\n",
            "COVID\n",
            "/content/drive/My Drive/Covid-19/dataset/COVID/lancet-case2b.jpg\n",
            "COVID\n",
            "/content/drive/My Drive/Covid-19/dataset/COVID/covid-19-pneumonia-2.jpg\n",
            "COVID\n",
            "/content/drive/My Drive/Covid-19/dataset/COVID/1-s2.0-S0929664620300449-gr2_lrg-b.jpg\n",
            "COVID\n",
            "/content/drive/My Drive/Covid-19/dataset/COVID/auntminnie-b-2020_01_28_23_51_6665_2020_01_28_Vietnam_coronavirus.jpeg\n",
            "COVID\n",
            "/content/drive/My Drive/Covid-19/dataset/COVID/gr1_lrg-a.jpg\n",
            "COVID\n",
            "/content/drive/My Drive/Covid-19/dataset/COVID/covid-19-pneumonia-12.jpg\n",
            "COVID\n",
            "/content/drive/My Drive/Covid-19/dataset/COVID/ryct.2020200028.fig1a.jpeg\n",
            "COVID\n",
            "/content/drive/My Drive/Covid-19/dataset/COVID/covid-19-pneumonia-15-PA.jpg\n",
            "COVID\n",
            "/content/drive/My Drive/Covid-19/dataset/COVID/1-s2.0-S0929664620300449-gr2_lrg-c.jpg\n",
            "COVID\n",
            "/content/drive/My Drive/Covid-19/dataset/COVID/gr1_lrg-b.jpg\n",
            "COVID\n",
            "/content/drive/My Drive/Covid-19/dataset/COVID/6CB4EFC6-68FA-4CD5-940C-BEFA8DAFE9A7.jpeg\n",
            "COVID\n",
            "/content/drive/My Drive/Covid-19/dataset/COVID/kjr-21-e24-g001-l-a.jpg\n",
            "COVID\n",
            "/content/drive/My Drive/Covid-19/dataset/COVID/1-s2.0-S1684118220300682-main.pdf-002-a1.png\n",
            "COVID\n",
            "/content/drive/My Drive/Covid-19/dataset/COVID/radiol.2020200490.fig3.jpeg\n",
            "COVID\n",
            "/content/drive/My Drive/Covid-19/dataset/COVID/E63574A7-4188-4C8D-8D17-9D67A18A1AFA.jpeg\n",
            "COVID\n",
            "/content/drive/My Drive/Covid-19/dataset/COVID/ciaa199.pdf-001-c.png\n",
            "COVID\n",
            "/content/drive/My Drive/Covid-19/dataset/COVID/41591_2020_819_Fig1_HTML.webp-day10.png\n",
            "COVID\n",
            "/content/drive/My Drive/Covid-19/dataset/COVID/ciaa199.pdf-001-b.png\n",
            "COVID\n",
            "/content/drive/My Drive/Covid-19/dataset/COVID/9C34AF49-E589-44D5-92D3-168B3B04E4A6.jpeg\n",
            "COVID\n",
            "/content/drive/My Drive/Covid-19/dataset/COVID/1-s2.0-S1684118220300682-main.pdf-002-a2.png\n",
            "COVID\n",
            "/content/drive/My Drive/Covid-19/dataset/COVID/ciaa199.pdf-001-a.png\n",
            "COVID\n",
            "/content/drive/My Drive/Covid-19/dataset/COVID/1312A392-67A3-4EBF-9319-810CF6DA5EF6.jpeg\n",
            "COVID\n",
            "/content/drive/My Drive/Covid-19/dataset/COVID/1-s2.0-S0140673620303706-fx1_lrg.jpg\n",
            "COVID\n",
            "/content/drive/My Drive/Covid-19/dataset/COVID/01E392EE-69F9-4E33-BFCE-E5C968654078.jpeg\n",
            "COVID\n",
            "/content/drive/My Drive/Covid-19/dataset/COVID/kjr-21-e25-g001-l-a.jpg\n",
            "COVID\n",
            "/content/drive/My Drive/Covid-19/dataset/COVID/FE9F9A5D-2830-46F9-851B-1FF4534959BE.jpeg\n",
            "COVID\n",
            "/content/drive/My Drive/Covid-19/dataset/COVID/covid-19-pneumonia-19.jpg\n",
            "COVID\n",
            "/content/drive/My Drive/Covid-19/dataset/COVID/93FE0BB1-022D-4F24-9727-987A07975FFB.jpeg\n",
            "COVID\n",
            "/content/drive/My Drive/Covid-19/dataset/COVID/nejmoa2001191_f3-PA.jpeg\n",
            "COVID\n",
            "/content/drive/My Drive/Covid-19/dataset/COVID/F2DE909F-E19C-4900-92F5-8F435B031AC6.jpeg\n",
            "COVID\n",
            "/content/drive/My Drive/Covid-19/dataset/COVID/nejmoa2001191_f4.jpeg\n",
            "COVID\n",
            "/content/drive/My Drive/Covid-19/dataset/COVID/all14238-fig-0001-m-c.jpg\n",
            "COVID\n",
            "/content/drive/My Drive/Covid-19/dataset/COVID/all14238-fig-0001-m-b.jpg\n",
            "COVID\n",
            "/content/drive/My Drive/Covid-19/dataset/COVID/ryct.2020200034.fig5-day7.jpeg\n",
            "COVID\n",
            "/content/drive/My Drive/Covid-19/dataset/COVID/80446565-E090-4187-A031-9D3CEAA586C8.jpeg\n",
            "COVID\n",
            "/content/drive/My Drive/Covid-19/dataset/COVID/nejmc2001573_f1b.jpeg\n",
            "COVID\n",
            "/content/drive/My Drive/Covid-19/dataset/COVID/2C26F453-AF3B-4517-BB9E-802CF2179543.jpeg\n",
            "COVID\n",
            "/content/drive/My Drive/Covid-19/dataset/COVID/nejmoa2001191_f1-PA.jpeg\n",
            "COVID\n",
            "/content/drive/My Drive/Covid-19/dataset/COVID/7AF6C1AF-D249-4BD2-8C26-449304105D03.jpeg\n",
            "COVID\n",
            "/content/drive/My Drive/Covid-19/dataset/COVID/85E52EB3-56E9-4D67-82DA-DEA247C82886.jpeg\n",
            "COVID\n",
            "/content/drive/My Drive/Covid-19/dataset/COVID/ryct.2020200034.fig5-day0.jpeg\n",
            "COVID\n",
            "/content/drive/My Drive/Covid-19/dataset/COVID/auntminnie-d-2020_01_28_23_51_6665_2020_01_28_Vietnam_coronavirus.jpeg\n",
            "COVID\n",
            "/content/drive/My Drive/Covid-19/dataset/COVID/ryct.2020200034.fig2.jpeg\n",
            "COVID\n",
            "/content/drive/My Drive/Covid-19/dataset/COVID/kjr-21-e24-g002-l-a.jpg\n",
            "COVID\n",
            "/content/drive/My Drive/Covid-19/dataset/COVID/kjr-21-e24-g003-l-a.jpg\n",
            "COVID\n",
            "/content/drive/My Drive/Covid-19/dataset/COVID/CD50BA96-6982-4C80-AE7B-5F67ACDBFA56.jpeg\n",
            "COVID\n",
            "/content/drive/My Drive/Covid-19/dataset/COVID/1-s2.0-S1684118220300608-main.pdf-001.jpg\n",
            "COVID\n",
            "/content/drive/My Drive/Covid-19/dataset/COVID/F4341CE7-73C9-45C6-99C8-8567A5484B63.jpeg\n",
            "COVID\n",
            "/content/drive/My Drive/Covid-19/dataset/COVID/41591_2020_819_Fig1_HTML.webp-day5.png\n",
            "COVID\n",
            "/content/drive/My Drive/Covid-19/dataset/COVID/1-s2.0-S1684118220300682-main.pdf-003-b1.png\n",
            "COVID\n",
            "/content/drive/My Drive/Covid-19/dataset/COVID/1-s2.0-S1684118220300682-main.pdf-003-b2.png\n",
            "COVID\n",
            "/content/drive/My Drive/Covid-19/dataset/COVID/1-s2.0-S1684118220300608-main.pdf-002.jpg\n",
            "COVID\n",
            "/content/drive/My Drive/Covid-19/dataset/normal/NORMAL2-IM-0404-0001.jpeg\n",
            "normal\n",
            "/content/drive/My Drive/Covid-19/dataset/normal/NORMAL2-IM-0425-0001.jpeg\n",
            "normal\n",
            "/content/drive/My Drive/Covid-19/dataset/normal/NORMAL2-IM-0406-0001.jpeg\n",
            "normal\n",
            "/content/drive/My Drive/Covid-19/dataset/normal/NORMAL2-IM-0408-0001.jpeg\n",
            "normal\n",
            "/content/drive/My Drive/Covid-19/dataset/normal/NORMAL2-IM-0409-0001.jpeg\n",
            "normal\n",
            "/content/drive/My Drive/Covid-19/dataset/normal/NORMAL2-IM-0407-0001.jpeg\n",
            "normal\n",
            "/content/drive/My Drive/Covid-19/dataset/normal/NORMAL2-IM-0412-0001.jpeg\n",
            "normal\n",
            "/content/drive/My Drive/Covid-19/dataset/normal/NORMAL2-IM-0410-0001.jpeg\n",
            "normal\n",
            "/content/drive/My Drive/Covid-19/dataset/normal/NORMAL2-IM-0435-0001.jpeg\n",
            "normal\n",
            "/content/drive/My Drive/Covid-19/dataset/normal/NORMAL2-IM-0413-0001.jpeg\n",
            "normal\n",
            "/content/drive/My Drive/Covid-19/dataset/normal/NORMAL2-IM-0414-0001.jpeg\n",
            "normal\n",
            "/content/drive/My Drive/Covid-19/dataset/normal/NORMAL2-IM-0415-0001.jpeg\n",
            "normal\n",
            "/content/drive/My Drive/Covid-19/dataset/normal/NORMAL2-IM-0441-0001.jpeg\n",
            "normal\n",
            "/content/drive/My Drive/Covid-19/dataset/normal/NORMAL2-IM-0480-0001.jpeg\n",
            "normal\n",
            "/content/drive/My Drive/Covid-19/dataset/normal/NORMAL2-IM-0416-0001-0001.jpeg\n",
            "normal\n",
            "/content/drive/My Drive/Covid-19/dataset/normal/NORMAL2-IM-0416-0001-0002.jpeg\n",
            "normal\n",
            "/content/drive/My Drive/Covid-19/dataset/normal/NORMAL2-IM-0416-0001.jpeg\n",
            "normal\n",
            "/content/drive/My Drive/Covid-19/dataset/normal/NORMAL2-IM-0417-0001.jpeg\n",
            "normal\n",
            "/content/drive/My Drive/Covid-19/dataset/normal/NORMAL2-IM-0418-0001.jpeg\n",
            "normal\n",
            "/content/drive/My Drive/Covid-19/dataset/normal/NORMAL2-IM-0419-0001.jpeg\n",
            "normal\n",
            "/content/drive/My Drive/Covid-19/dataset/normal/NORMAL2-IM-0421-0001.jpeg\n",
            "normal\n",
            "/content/drive/My Drive/Covid-19/dataset/normal/NORMAL2-IM-0423-0001.jpeg\n",
            "normal\n",
            "/content/drive/My Drive/Covid-19/dataset/normal/NORMAL2-IM-0424-0001.jpeg\n",
            "normal\n",
            "/content/drive/My Drive/Covid-19/dataset/normal/NORMAL2-IM-0427-0001.jpeg\n",
            "normal\n",
            "/content/drive/My Drive/Covid-19/dataset/normal/NORMAL2-IM-0428-0001.jpeg\n",
            "normal\n",
            "/content/drive/My Drive/Covid-19/dataset/normal/NORMAL2-IM-0429-0001.jpeg\n",
            "normal\n",
            "/content/drive/My Drive/Covid-19/dataset/normal/NORMAL2-IM-0437-0001.jpeg\n",
            "normal\n",
            "/content/drive/My Drive/Covid-19/dataset/normal/NORMAL2-IM-0433-0001.jpeg\n",
            "normal\n",
            "/content/drive/My Drive/Covid-19/dataset/normal/NORMAL2-IM-0443-0001.jpeg\n",
            "normal\n",
            "/content/drive/My Drive/Covid-19/dataset/normal/NORMAL2-IM-0440-0001.jpeg\n",
            "normal\n",
            "/content/drive/My Drive/Covid-19/dataset/normal/NORMAL2-IM-0439-0001.jpeg\n",
            "normal\n",
            "/content/drive/My Drive/Covid-19/dataset/normal/NORMAL2-IM-0445-0001.jpeg\n",
            "normal\n",
            "/content/drive/My Drive/Covid-19/dataset/normal/NORMAL2-IM-0448-0001.jpeg\n",
            "normal\n",
            "/content/drive/My Drive/Covid-19/dataset/normal/NORMAL2-IM-0447-0001.jpeg\n",
            "normal\n",
            "/content/drive/My Drive/Covid-19/dataset/normal/NORMAL2-IM-0450-0001.jpeg\n",
            "normal\n",
            "/content/drive/My Drive/Covid-19/dataset/normal/NORMAL2-IM-0452-0001.jpeg\n",
            "normal\n",
            "/content/drive/My Drive/Covid-19/dataset/normal/NORMAL2-IM-0449-0001.jpeg\n",
            "normal\n",
            "/content/drive/My Drive/Covid-19/dataset/normal/NORMAL2-IM-0454-0001.jpeg\n",
            "normal\n",
            "/content/drive/My Drive/Covid-19/dataset/normal/NORMAL2-IM-0453-0001.jpeg\n",
            "normal\n",
            "/content/drive/My Drive/Covid-19/dataset/normal/NORMAL2-IM-0451-0001.jpeg\n",
            "normal\n",
            "/content/drive/My Drive/Covid-19/dataset/normal/NORMAL2-IM-0456-0001.jpeg\n",
            "normal\n",
            "/content/drive/My Drive/Covid-19/dataset/normal/NORMAL2-IM-0458-0001.jpeg\n",
            "normal\n",
            "/content/drive/My Drive/Covid-19/dataset/normal/NORMAL2-IM-0455-0001.jpeg\n",
            "normal\n",
            "/content/drive/My Drive/Covid-19/dataset/normal/NORMAL2-IM-0460-0001.jpeg\n",
            "normal\n",
            "/content/drive/My Drive/Covid-19/dataset/normal/NORMAL2-IM-0462-0001.jpeg\n",
            "normal\n",
            "/content/drive/My Drive/Covid-19/dataset/normal/NORMAL2-IM-0463-0001.jpeg\n",
            "normal\n",
            "/content/drive/My Drive/Covid-19/dataset/normal/NORMAL2-IM-0464-0001.jpeg\n",
            "normal\n",
            "/content/drive/My Drive/Covid-19/dataset/normal/NORMAL2-IM-0465-0001.jpeg\n",
            "normal\n",
            "/content/drive/My Drive/Covid-19/dataset/normal/NORMAL2-IM-0468-0001.jpeg\n",
            "normal\n",
            "/content/drive/My Drive/Covid-19/dataset/normal/NORMAL2-IM-0466-0001.jpeg\n",
            "normal\n",
            "/content/drive/My Drive/Covid-19/dataset/normal/NORMAL2-IM-0472-0001.jpeg\n",
            "normal\n",
            "/content/drive/My Drive/Covid-19/dataset/normal/NORMAL2-IM-0473-0001.jpeg\n",
            "normal\n",
            "/content/drive/My Drive/Covid-19/dataset/normal/NORMAL2-IM-0474-0001.jpeg\n",
            "normal\n",
            "/content/drive/My Drive/Covid-19/dataset/normal/NORMAL2-IM-0475-0001.jpeg\n",
            "normal\n",
            "/content/drive/My Drive/Covid-19/dataset/normal/NORMAL2-IM-0478-0001.jpeg\n",
            "normal\n",
            "/content/drive/My Drive/Covid-19/dataset/normal/NORMAL2-IM-0476-0001.jpeg\n",
            "normal\n",
            "/content/drive/My Drive/Covid-19/dataset/normal/NORMAL2-IM-0479-0001.jpeg\n",
            "normal\n",
            "/content/drive/My Drive/Covid-19/dataset/normal/NORMAL2-IM-0481-0001.jpeg\n",
            "normal\n",
            "/content/drive/My Drive/Covid-19/dataset/normal/NORMAL2-IM-0488-0001.jpeg\n",
            "normal\n",
            "/content/drive/My Drive/Covid-19/dataset/normal/NORMAL2-IM-0489-0001.jpeg\n",
            "normal\n",
            "/content/drive/My Drive/Covid-19/dataset/normal/NORMAL2-IM-0482-0001.jpeg\n",
            "normal\n",
            "/content/drive/My Drive/Covid-19/dataset/normal/NORMAL2-IM-0485-0001.jpeg\n",
            "normal\n",
            "/content/drive/My Drive/Covid-19/dataset/normal/NORMAL2-IM-0486-0001.jpeg\n",
            "normal\n",
            "/content/drive/My Drive/Covid-19/dataset/normal/NORMAL2-IM-0487-0001.jpeg\n",
            "normal\n",
            "/content/drive/My Drive/Covid-19/dataset/normal/NORMAL2-IM-0491-0001.jpeg\n",
            "normal\n",
            "/content/drive/My Drive/Covid-19/dataset/normal/NORMAL2-IM-0493-0001.jpeg\n",
            "normal\n",
            "/content/drive/My Drive/Covid-19/dataset/normal/NORMAL2-IM-0490-0001.jpeg\n",
            "normal\n",
            "/content/drive/My Drive/Covid-19/dataset/normal/NORMAL2-IM-0497-0001.jpeg\n",
            "normal\n",
            "/content/drive/My Drive/Covid-19/dataset/normal/NORMAL2-IM-0496-0001.jpeg\n",
            "normal\n",
            "Number of training images:  138\n",
            "\n"
          ],
          "name": "stdout"
        },
        {
          "output_type": "display_data",
          "data": {
            "image/png": "[encoded data removed]",
            "text/plain": [
              "<Figure size 432x288 with 1 Axes>"
            ]
          },
          "metadata": {
            "tags": []
          }
        },
        {
          "output_type": "stream",
          "text": [
            "Example scan label:\t  COVID\n",
            "One-hot encoded label:  [1. 0.]\n",
            "\n",
            "[INFO] compiling model...\n"
          ],
          "name": "stdout"
        }
      ]
    },
    {
      "cell_type": "code",
      "metadata": {
        "id": "2Eb-AO0kqpZE",
        "colab_type": "code",
        "colab": {
          "base_uri": "https://localhost:8080/",
          "height": 33
        },
        "outputId": "b7b4993e-fff3-4389-b404-fa444cf4d1df"
      },
      "source": [
        "data[120].shape"
      ],
      "execution_count": 41,
      "outputs": [
        {
          "output_type": "execute_result",
          "data": {
            "text/plain": [
              "(256, 256, 3)"
            ]
          },
          "metadata": {
            "tags": []
          },
          "execution_count": 41
        }
      ]
    },
    {
      "cell_type": "code",
      "metadata": {
        "id": "kj4XYFV08kcv",
        "colab_type": "code",
        "colab": {}
      },
      "source": [
        "early_stopping = tf.keras.callbacks.EarlyStopping(\n",
        "    monitor='val_loss', \n",
        "    verbose=1,\n",
        "    patience=10,\n",
        "    mode='max',\n",
        "    restore_best_weights=True)"
      ],
      "execution_count": 0,
      "outputs": []
    },
    {
      "cell_type": "code",
      "metadata": {
        "id": "dLpTddNC32_M",
        "colab_type": "code",
        "colab": {
          "base_uri": "https://localhost:8080/",
          "height": 1000
        },
        "outputId": "47d91790-6564-414d-fae2-59f60e66e315"
      },
      "source": [
        "# train the model\n",
        "print(\"[INFO] training new model ...\")\n",
        "results = model.fit_generator(\n",
        "\ttrainAug.flow(trainX, trainY, batch_size=batch_size),\n",
        "\tsteps_per_epoch=len(trainX) // batch_size,\n",
        "\tvalidation_data=(validX, validY),\n",
        "\tvalidation_steps=len(testX) // batch_size,\n",
        "    callbacks = [early_stopping],\n",
        "\tepochs=epochs)"
      ],
      "execution_count": 43,
      "outputs": [
        {
          "output_type": "stream",
          "text": [
            "[INFO] training new model ...\n",
            "WARNING:tensorflow:sample_weight modes were coerced from\n",
            "  ...\n",
            "    to  \n",
            "  ['...']\n",
            "Train for 22 steps, validate on 28 samples\n",
            "Epoch 1/100\n",
            "22/22 [==============================] - 2s 113ms/step - loss: 0.8461 - accuracy: 0.6727 - val_loss: 0.1513 - val_accuracy: 1.0000\n",
            "Epoch 2/100\n",
            "22/22 [==============================] - 2s 78ms/step - loss: 0.1291 - accuracy: 0.9636 - val_loss: 0.0556 - val_accuracy: 1.0000\n",
            "Epoch 3/100\n",
            "22/22 [==============================] - 2s 79ms/step - loss: 0.3529 - accuracy: 0.9364 - val_loss: 0.0977 - val_accuracy: 0.9600\n",
            "Epoch 4/100\n",
            "22/22 [==============================] - 2s 78ms/step - loss: 0.0764 - accuracy: 0.9818 - val_loss: 0.0525 - val_accuracy: 0.9600\n",
            "Epoch 5/100\n",
            "22/22 [==============================] - 2s 80ms/step - loss: 0.2212 - accuracy: 0.9636 - val_loss: 0.1138 - val_accuracy: 0.9600\n",
            "Epoch 6/100\n",
            "22/22 [==============================] - 2s 80ms/step - loss: 0.0808 - accuracy: 0.9909 - val_loss: 0.0347 - val_accuracy: 1.0000\n",
            "Epoch 7/100\n",
            "22/22 [==============================] - 2s 81ms/step - loss: 0.0505 - accuracy: 0.9909 - val_loss: 0.0154 - val_accuracy: 1.0000\n",
            "Epoch 8/100\n",
            "22/22 [==============================] - 2s 81ms/step - loss: 0.0397 - accuracy: 0.9909 - val_loss: 0.0981 - val_accuracy: 0.9600\n",
            "Epoch 9/100\n",
            "22/22 [==============================] - 2s 80ms/step - loss: 0.0106 - accuracy: 1.0000 - val_loss: 0.0025 - val_accuracy: 1.0000\n",
            "Epoch 10/100\n",
            "22/22 [==============================] - 2s 80ms/step - loss: 0.0421 - accuracy: 0.9818 - val_loss: 0.1475 - val_accuracy: 0.9600\n",
            "Epoch 11/100\n",
            "22/22 [==============================] - 2s 81ms/step - loss: 0.0767 - accuracy: 0.9727 - val_loss: 0.4081 - val_accuracy: 0.9600\n",
            "Epoch 12/100\n",
            "22/22 [==============================] - 2s 82ms/step - loss: 5.5019e-04 - accuracy: 1.0000 - val_loss: 0.0441 - val_accuracy: 0.9600\n",
            "Epoch 13/100\n",
            "22/22 [==============================] - 2s 82ms/step - loss: 0.3479 - accuracy: 0.9455 - val_loss: 5.2334e-04 - val_accuracy: 1.0000\n",
            "Epoch 14/100\n",
            "22/22 [==============================] - 2s 81ms/step - loss: 0.2539 - accuracy: 0.9545 - val_loss: 0.0205 - val_accuracy: 1.0000\n",
            "Epoch 15/100\n",
            "22/22 [==============================] - 2s 81ms/step - loss: 0.0016 - accuracy: 1.0000 - val_loss: 0.1787 - val_accuracy: 0.9600\n",
            "Epoch 16/100\n",
            "22/22 [==============================] - 2s 81ms/step - loss: 0.2434 - accuracy: 0.9636 - val_loss: 0.3124 - val_accuracy: 0.9600\n",
            "Epoch 17/100\n",
            "22/22 [==============================] - 2s 83ms/step - loss: 0.0620 - accuracy: 0.9727 - val_loss: 0.1817 - val_accuracy: 0.9600\n",
            "Epoch 18/100\n",
            "22/22 [==============================] - 2s 83ms/step - loss: 0.1574 - accuracy: 0.9727 - val_loss: 0.4488 - val_accuracy: 0.8800\n",
            "Epoch 19/100\n",
            "22/22 [==============================] - 2s 79ms/step - loss: 0.1383 - accuracy: 0.9909 - val_loss: 0.1514 - val_accuracy: 0.9600\n",
            "Epoch 20/100\n",
            "22/22 [==============================] - 2s 80ms/step - loss: 0.0212 - accuracy: 0.9909 - val_loss: 4.7800e-04 - val_accuracy: 1.0000\n",
            "Epoch 21/100\n",
            "22/22 [==============================] - 2s 80ms/step - loss: 0.1021 - accuracy: 0.9818 - val_loss: 0.0120 - val_accuracy: 1.0000\n",
            "Epoch 22/100\n",
            "22/22 [==============================] - 2s 83ms/step - loss: 0.2363 - accuracy: 0.9727 - val_loss: 0.1958 - val_accuracy: 0.9600\n",
            "Epoch 23/100\n",
            "22/22 [==============================] - 2s 79ms/step - loss: 0.0501 - accuracy: 0.9818 - val_loss: 0.0311 - val_accuracy: 0.9600\n",
            "Epoch 24/100\n",
            "22/22 [==============================] - 2s 81ms/step - loss: 0.1286 - accuracy: 0.9727 - val_loss: 0.0047 - val_accuracy: 1.0000\n",
            "Epoch 25/100\n",
            "22/22 [==============================] - 2s 81ms/step - loss: 0.0030 - accuracy: 1.0000 - val_loss: 0.0974 - val_accuracy: 0.9600\n",
            "Epoch 26/100\n",
            "22/22 [==============================] - 2s 80ms/step - loss: 6.4946e-04 - accuracy: 1.0000 - val_loss: 0.0179 - val_accuracy: 1.0000\n",
            "Epoch 27/100\n",
            "22/22 [==============================] - 2s 80ms/step - loss: 0.1181 - accuracy: 0.9909 - val_loss: 0.4338 - val_accuracy: 0.9600\n",
            "Epoch 28/100\n",
            "21/22 [===========================>..] - ETA: 0s - loss: 0.1079 - accuracy: 0.9714Restoring model weights from the end of the best epoch.\n",
            "22/22 [==============================] - 2s 82ms/step - loss: 0.1030 - accuracy: 0.9727 - val_loss: 0.3233 - val_accuracy: 0.9600\n",
            "Epoch 00028: early stopping\n"
          ],
          "name": "stdout"
        }
      ]
    },
    {
      "cell_type": "markdown",
      "metadata": {
        "id": "QWvq4mAn29F4",
        "colab_type": "text"
      },
      "source": [
        "Analyse Results from the Test Set"
      ]
    },
    {
      "cell_type": "code",
      "metadata": {
        "id": "7ftc5YLSiyz9",
        "colab_type": "code",
        "colab": {
          "base_uri": "https://localhost:8080/",
          "height": 618
        },
        "outputId": "07e4741d-eedf-4360-d62e-e0639ab92eeb"
      },
      "source": [
        "# Make predictions on the testing set\n",
        "print(\"[INFO] evaluating network...\")\n",
        "predIdxs = model.predict(testX, batch_size=batch_size)\n",
        "print('\\nNumber of test scans: ', len(testX))\n",
        "print('Predicted class probabilities:')\n",
        "print(predIdxs)\n",
        "\n",
        "# Find the predicted labels \n",
        "predIdxs = np.argmax(predIdxs, axis=1)\n",
        "print('\\nPredicted outcome (Covid=1, Normal=0):')\n",
        "print(predIdxs)\n",
        "print('Ground-truth outcome:')\n",
        "# print(testY)\n",
        "trueIdxs = np.argmax(testY, axis=1)\n",
        "print(trueIdxs)"
      ],
      "execution_count": 44,
      "outputs": [
        {
          "output_type": "stream",
          "text": [
            "[INFO] evaluating network...\n",
            "\n",
            "Number of test scans:  28\n",
            "Predicted class probabilities:\n",
            "[[0.00000000e+00 1.00000000e+00]\n",
            " [9.99577343e-01 4.22629120e-04]\n",
            " [5.84414190e-34 1.00000000e+00]\n",
            " [5.49749328e-15 1.00000000e+00]\n",
            " [9.99988675e-01 1.13719125e-05]\n",
            " [3.57476551e-29 1.00000000e+00]\n",
            " [9.99804556e-01 1.95430795e-04]\n",
            " [9.86300945e-01 1.36990016e-02]\n",
            " [1.60019132e-04 9.99839902e-01]\n",
            " [1.00000000e+00 1.18298829e-10]\n",
            " [1.00000000e+00 1.00779669e-08]\n",
            " [5.56310967e-35 1.00000000e+00]\n",
            " [2.09345910e-25 1.00000000e+00]\n",
            " [2.71801675e-08 1.00000000e+00]\n",
            " [0.00000000e+00 1.00000000e+00]\n",
            " [1.22946367e-36 1.00000000e+00]\n",
            " [1.72210202e-01 8.27789783e-01]\n",
            " [5.71020782e-01 4.28979278e-01]\n",
            " [1.43533214e-16 1.00000000e+00]\n",
            " [9.99719799e-01 2.80178938e-04]\n",
            " [9.99975681e-01 2.42720071e-05]\n",
            " [6.29717155e-20 1.00000000e+00]\n",
            " [3.21052747e-30 1.00000000e+00]\n",
            " [2.24426821e-01 7.75573194e-01]\n",
            " [0.00000000e+00 1.00000000e+00]\n",
            " [9.99963522e-01 3.64198968e-05]\n",
            " [9.99941945e-01 5.80185770e-05]\n",
            " [3.08160660e-28 1.00000000e+00]]\n",
            "\n",
            "Predicted outcome (Covid=1, Normal=0):\n",
            "[1 0 1 1 0 1 0 0 1 0 0 1 1 1 1 1 1 0 1 0 0 1 1 1 1 0 0 1]\n",
            "Ground-truth outcome:\n",
            "[1 0 1 1 0 1 0 0 0 0 0 1 1 1 1 1 0 0 1 0 0 1 1 0 1 0 0 1]\n"
          ],
          "name": "stdout"
        }
      ]
    },
    {
      "cell_type": "markdown",
      "metadata": {
        "id": "8PO1fC_93FSr",
        "colab_type": "text"
      },
      "source": [
        "Loss/Accuracy Curve"
      ]
    },
    {
      "cell_type": "code",
      "metadata": {
        "id": "ORoSPdQfkwVN",
        "colab_type": "code",
        "colab": {
          "base_uri": "https://localhost:8080/",
          "height": 626
        },
        "outputId": "572b3faa-d079-48c8-fa93-a1ec0950c4af"
      },
      "source": [
        "N = len(results.history[\"loss\"])\n",
        "plt.style.use(\"ggplot\")\n",
        "plt.figure(figsize = (20,10))\n",
        "plt.plot(np.arange(0, N), results.history[\"loss\"], label=\"train_loss\", color = 'firebrick')\n",
        "plt.plot(np.arange(0, N), results.history[\"val_loss\"], label=\"val_loss\", color = 'salmon')\n",
        "plt.plot(np.arange(0, N), results.history[\"accuracy\"], label=\"train_acc\", color = 'teal')\n",
        "plt.plot(np.arange(0, N), results.history[\"val_accuracy\"], label=\"val_acc\",color = 'cadetblue')\n",
        "plt.plot( np.argmin(results.history[\"val_loss\"]), np.min(results.history[\"val_loss\"]), marker=\"x\", color=\"r\", label=\"best model\")\n",
        "plt.title(\"Training Loss and Accuracy on COVID-19 Dataset\")\n",
        "plt.xlabel(\"Epochs\")\n",
        "plt.ylabel(\"Loss/Accuracy\")\n",
        "plt.legend(loc=\"upper right\")\n",
        "plt.savefig('loss_curve.pdf', format='pdf')\n",
        "plt.show()"
      ],
      "execution_count": 58,
      "outputs": [
        {
          "output_type": "display_data",
          "data": {
            "image/png": "[encoded data removed]",
            "text/plain": [
              "<Figure size 1440x720 with 1 Axes>"
            ]
          },
          "metadata": {
            "tags": []
          }
        }
      ]
    },
    {
      "cell_type": "markdown",
      "metadata": {
        "id": "_Do2gLZBxa8_",
        "colab_type": "text"
      },
      "source": [
        "compute the confusion matrix and and use it to derive the raw accuracy, sensitivity, and specificity"
      ]
    },
    {
      "cell_type": "code",
      "metadata": {
        "id": "wbbpsWLasmpJ",
        "colab_type": "code",
        "colab": {
          "base_uri": "https://localhost:8080/",
          "height": 820
        },
        "outputId": "8ab93aff-4f7b-4be0-835c-ec03c098bd6b"
      },
      "source": [
        "predicted_metrics = model.evaluate(testX, testY,\n",
        "                                  batch_size=batch_size, verbose=0)\n",
        "for name, value in zip(model.metrics_names, predicted_metrics):\n",
        "  print(name, ': ', value)\n",
        "print()\n",
        "\n",
        "plot_cm(trueIdxs, predIdxs)\n",
        "plt.savefig('confusion_matrix.pdf', format='pdf')"
      ],
      "execution_count": 59,
      "outputs": [
        {
          "output_type": "stream",
          "text": [
            "loss :  0.23248311150282142\n",
            "accuracy :  0.96428573\n",
            "\n",
            "              precision    recall  f1-score   support\n",
            "\n",
            "       COVID       1.00      0.79      0.88        14\n",
            "      normal       0.82      1.00      0.90        14\n",
            "\n",
            "    accuracy                           0.89        28\n",
            "   macro avg       0.91      0.89      0.89        28\n",
            "weighted avg       0.91      0.89      0.89        28\n",
            "\n",
            "accuracy: 0.8929\n",
            "sensitivity: 0.7857\n",
            "specificity: 1.0000\n",
            "\n",
            "Correct Healthy Patient Detection (True Negatives):  11\n",
            "Incorrect Covid-19 Detection (False Positives):  3\n",
            "Incorrect Healthy Patient Detection (False Negatives):  0\n",
            "Correct Covid-19 Detection (True Positives):  14\n",
            "Total Patietns with Covid-19:  14\n",
            "\n"
          ],
          "name": "stdout"
        },
        {
          "output_type": "display_data",
          "data": {
            "image/png": "[encoded data removed]",
            "text/plain": [
              "<Figure size 504x504 with 2 Axes>"
            ]
          },
          "metadata": {
            "tags": []
          }
        }
      ]
    },
    {
      "cell_type": "markdown",
      "metadata": {
        "id": "X-3sfJYIY0sI",
        "colab_type": "text"
      },
      "source": [
        "Experiments with a second custom network\n"
      ]
    },
    {
      "cell_type": "code",
      "metadata": {
        "id": "ox70IK6isr07",
        "colab_type": "code",
        "colab": {}
      },
      "source": [
        "class CovidNet:\n",
        "\t@staticmethod\n",
        "\tdef build(width, height, depth, classes):\n",
        "\t\tmodel = Sequential()\n",
        "\t\tinputShape = (height, width, depth)\n",
        "\t\tchanDim = -1\n",
        "\t\t# if we are using \"channels first\", update the input shape\n",
        "\t\t# and channels dimension\n",
        "\t\tif K.image_data_format() == \"channels_first\":\n",
        "\t\t\tinputShape = (depth, height, width)\n",
        "\t\t\tchanDim = 1\n",
        "            # CONV => RELU => POOL\n",
        "\t\tmodel.add(SeparableConv2D(32, (3, 3), padding=\"same\",\n",
        "\t\t\tinput_shape=inputShape))\n",
        "\t\tmodel.add(Activation(\"relu\"))\n",
        "\t\tmodel.add(BatchNormalization(axis=chanDim))\n",
        "\t\tmodel.add(MaxPooling2D(pool_size=(2, 2)))\n",
        "\t\tmodel.add(Dropout(0.25))\n",
        "\t\t# (CONV => RELU => POOL) * 2\n",
        "\t\tmodel.add(SeparableConv2D(64, (3, 3), padding=\"same\"))\n",
        "\t\tmodel.add(Activation(\"relu\"))\n",
        "\t\tmodel.add(BatchNormalization(axis=chanDim))\n",
        "\t\tmodel.add(SeparableConv2D(64, (3, 3), padding=\"same\"))\n",
        "\t\tmodel.add(Activation(\"relu\"))\n",
        "\t\tmodel.add(BatchNormalization(axis=chanDim))\n",
        "\t\tmodel.add(MaxPooling2D(pool_size=(2, 2)))\n",
        "\t\tmodel.add(Dropout(0.25))\n",
        "\t\t# (CONV => RELU => POOL) * 3\n",
        "\t\tmodel.add(SeparableConv2D(128, (3, 3), padding=\"same\"))\n",
        "\t\tmodel.add(Activation(\"relu\"))\n",
        "\t\tmodel.add(BatchNormalization(axis=chanDim))\n",
        "\t\tmodel.add(SeparableConv2D(128, (3, 3), padding=\"same\"))\n",
        "\t\tmodel.add(Activation(\"relu\"))\n",
        "\t\tmodel.add(BatchNormalization(axis=chanDim))\n",
        "\t\tmodel.add(SeparableConv2D(128, (3, 3), padding=\"same\"))\n",
        "\t\tmodel.add(Activation(\"relu\"))\n",
        "\t\tmodel.add(BatchNormalization(axis=chanDim))\n",
        "\t\tmodel.add(MaxPooling2D(pool_size=(2, 2)))\n",
        "\t\tmodel.add(Dropout(0.25))\n",
        "  \n",
        "        # first (and only) set of FC => RELU layers\n",
        "\t\tmodel.add(Flatten())\n",
        "\t\tmodel.add(Dense(256))\n",
        "\t\tmodel.add(Activation(\"relu\"))\n",
        "\t\tmodel.add(BatchNormalization())\n",
        "\t\tmodel.add(Dropout(0.5))\n",
        "\t\t# softmax classifier\n",
        "\t\tmodel.add(Dense(classes))\n",
        "\t\tmodel.add(Activation(\"softmax\"))\n",
        "\t\t# return the constructed network architecture\n",
        "\t\treturn model"
      ],
      "execution_count": 0,
      "outputs": []
    },
    {
      "cell_type": "markdown",
      "metadata": {
        "id": "S8zdTK4mY_U4",
        "colab_type": "text"
      },
      "source": [
        "Account for unbalanced classes/skewness"
      ]
    },
    {
      "cell_type": "code",
      "metadata": {
        "id": "QLw6YK4nE1Gk",
        "colab_type": "code",
        "colab": {
          "base_uri": "https://localhost:8080/",
          "height": 50
        },
        "outputId": "d50bbd78-708d-40ee-faf5-26fc722b6e49"
      },
      "source": [
        "# account for skew in the labeled data\n",
        "trainLabels = to_categorical(trainX)\n",
        "classTotals = trainLabels.sum(axis=0)\n",
        "classWeight = classTotals.max() / classTotals"
      ],
      "execution_count": 50,
      "outputs": [
        {
          "output_type": "stream",
          "text": [
            "/usr/local/lib/python3.6/dist-packages/ipykernel_launcher.py:3: RuntimeWarning: divide by zero encountered in true_divide\n",
            "  This is separate from the ipykernel package so we can avoid doing imports until\n"
          ],
          "name": "stderr"
        }
      ]
    },
    {
      "cell_type": "code",
      "metadata": {
        "id": "d9-J1i0V6J4m",
        "colab_type": "code",
        "colab": {}
      },
      "source": [
        "model1 = CovidNet.build(width=256, height=256, depth=3,\n",
        "\tclasses=2)\n",
        "opt = Adagrad(lr=init_lr, decay=init_lr / epochs)\n",
        "model1.compile(loss=\"binary_crossentropy\", optimizer=opt,\n",
        "\tmetrics=[\"accuracy\"])"
      ],
      "execution_count": 0,
      "outputs": []
    },
    {
      "cell_type": "code",
      "metadata": {
        "id": "86Ca0X9PBteB",
        "colab_type": "code",
        "colab": {
          "base_uri": "https://localhost:8080/",
          "height": 553
        },
        "outputId": "a94d6bf8-afa7-4e4e-f720-6de7f4ee97b6"
      },
      "source": [
        "# fit the model\n",
        "H = model.fit_generator(\n",
        "\ttrainAug.flow(trainX, trainY, batch_size=batch_size),\n",
        "\t# steps_per_epoch=totalTrain // batch_size,\n",
        "\tvalidation_data=(validX, validY),\n",
        "\t# validation_steps=totalVal // batch_size,\n",
        "\tclass_weight=classWeight,\n",
        "    callbacks = [early_stopping],\n",
        "\tepochs=epochs)"
      ],
      "execution_count": 55,
      "outputs": [
        {
          "output_type": "stream",
          "text": [
            "WARNING:tensorflow:sample_weight modes were coerced from\n",
            "  ...\n",
            "    to  \n",
            "  ['...']\n",
            "Train for 22 steps, validate on 28 samples\n",
            "Epoch 1/100\n",
            "22/22 [==============================] - 2s 84ms/step - loss: 0.0032 - accuracy: 1.0000 - val_loss: 0.0665 - val_accuracy: 0.9643\n",
            "Epoch 2/100\n",
            "22/22 [==============================] - 2s 82ms/step - loss: 0.0017 - accuracy: 1.0000 - val_loss: 0.0268 - val_accuracy: 0.9643\n",
            "Epoch 3/100\n",
            "22/22 [==============================] - 2s 83ms/step - loss: 0.0456 - accuracy: 0.9909 - val_loss: 0.2325 - val_accuracy: 0.9643\n",
            "Epoch 4/100\n",
            "22/22 [==============================] - 2s 80ms/step - loss: 0.0055 - accuracy: 1.0000 - val_loss: 0.0249 - val_accuracy: 0.9643\n",
            "Epoch 5/100\n",
            "22/22 [==============================] - 2s 80ms/step - loss: 2.0823e-04 - accuracy: 1.0000 - val_loss: 0.0195 - val_accuracy: 1.0000\n",
            "Epoch 6/100\n",
            "22/22 [==============================] - 2s 82ms/step - loss: 0.0092 - accuracy: 0.9909 - val_loss: 2.4857e-04 - val_accuracy: 1.0000\n",
            "Epoch 7/100\n",
            "22/22 [==============================] - 2s 81ms/step - loss: 6.0335e-04 - accuracy: 1.0000 - val_loss: 1.5479e-04 - val_accuracy: 1.0000\n",
            "Epoch 8/100\n",
            "22/22 [==============================] - 2s 80ms/step - loss: 2.8737e-04 - accuracy: 1.0000 - val_loss: 1.5468e-04 - val_accuracy: 1.0000\n",
            "Epoch 9/100\n",
            "22/22 [==============================] - 2s 80ms/step - loss: 1.0008e-04 - accuracy: 1.0000 - val_loss: 1.8519e-04 - val_accuracy: 1.0000\n",
            "Epoch 10/100\n",
            "22/22 [==============================] - 2s 81ms/step - loss: 2.9067e-04 - accuracy: 1.0000 - val_loss: 1.2487e-04 - val_accuracy: 1.0000\n",
            "Epoch 11/100\n",
            "22/22 [==============================] - 2s 80ms/step - loss: 1.6843e-05 - accuracy: 1.0000 - val_loss: 3.0033e-05 - val_accuracy: 1.0000\n",
            "Epoch 12/100\n",
            "22/22 [==============================] - 2s 81ms/step - loss: 5.3168e-05 - accuracy: 1.0000 - val_loss: 2.6404e-05 - val_accuracy: 1.0000\n",
            "Epoch 13/100\n",
            "21/22 [===========================>..] - ETA: 0s - loss: 3.0723e-05 - accuracy: 1.0000Restoring model weights from the end of the best epoch.\n",
            "22/22 [==============================] - 2s 82ms/step - loss: 4.2992e-05 - accuracy: 1.0000 - val_loss: 4.1728e-05 - val_accuracy: 1.0000\n",
            "Epoch 00013: early stopping\n"
          ],
          "name": "stdout"
        }
      ]
    },
    {
      "cell_type": "code",
      "metadata": {
        "id": "458IKy7pF_kj",
        "colab_type": "code",
        "colab": {
          "base_uri": "https://localhost:8080/",
          "height": 820
        },
        "outputId": "307bbf3a-e3af-4449-e9f5-9d75af0d4ed6"
      },
      "source": [
        "predicted_metrics = model1.evaluate(testX, testY,\n",
        "                                  batch_size=batch_size, verbose=0)\n",
        "for name, value in zip(model1.metrics_names, predicted_metrics):\n",
        "  print(name, ': ', value)\n",
        "print()\n",
        "\n",
        "plot_cm(trueIdxs, predIdxs)"
      ],
      "execution_count": 56,
      "outputs": [
        {
          "output_type": "stream",
          "text": [
            "loss :  0.6931467673608235\n",
            "accuracy :  0.5\n",
            "\n",
            "              precision    recall  f1-score   support\n",
            "\n",
            "       COVID       1.00      0.79      0.88        14\n",
            "      normal       0.82      1.00      0.90        14\n",
            "\n",
            "    accuracy                           0.89        28\n",
            "   macro avg       0.91      0.89      0.89        28\n",
            "weighted avg       0.91      0.89      0.89        28\n",
            "\n",
            "accuracy: 0.8929\n",
            "sensitivity: 0.7857\n",
            "specificity: 1.0000\n",
            "\n",
            "Correct Healthy Patient Detection (True Negatives):  11\n",
            "Incorrect Covid-19 Detection (False Positives):  3\n",
            "Incorrect Healthy Patient Detection (False Negatives):  0\n",
            "Correct Covid-19 Detection (True Positives):  14\n",
            "Total Patietns with Covid-19:  14\n",
            "\n"
          ],
          "name": "stdout"
        },
        {
          "output_type": "display_data",
          "data": {
            "image/png": "[encoded data removed]",
            "text/plain": [
              "<Figure size 504x504 with 2 Axes>"
            ]
          },
          "metadata": {
            "tags": []
          }
        }
      ]
    },
    {
      "cell_type": "code",
      "metadata": {
        "id": "GYtdXuKjI_CP",
        "colab_type": "code",
        "colab": {}
      },
      "source": [
        ""
      ],
      "execution_count": 0,
      "outputs": []
    }
  ]
}